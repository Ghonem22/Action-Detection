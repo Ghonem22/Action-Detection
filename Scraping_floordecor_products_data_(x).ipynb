{
  "cells": [
    {
      "cell_type": "markdown",
      "metadata": {
        "id": "view-in-github",
        "colab_type": "text"
      },
      "source": [
        "<a href=\"https://colab.research.google.com/github/Ghonem22/Action-Detection/blob/master/Scraping_floordecor_products_data_(x).ipynb\" target=\"_parent\"><img src=\"https://colab.research.google.com/assets/colab-badge.svg\" alt=\"Open In Colab\"/></a>"
      ]
    },
    {
      "cell_type": "code",
      "execution_count": 64,
      "metadata": {
        "id": "I-GkmsOJYg7U"
      },
      "outputs": [],
      "source": [
        "from bs4 import BeautifulSoup\n",
        "from urllib.request import Request, urlopen\n",
        "import time\n",
        "from numpy.random import uniform\n",
        "import pandas as pd\n",
        "\n",
        "\n",
        "class url_domain_validation:\n",
        "        \n",
        "    # validate if the url start with the domain, if notL add the domain\n",
        "    def validate_url_domain(self, url, domain):\n",
        "        if not url.startswith(\"http\"):\n",
        "            url = domain + url\n",
        "        return url\n",
        "\n",
        "\n",
        "\n",
        "class get_sub_departments_urls(url_domain_validation):\n",
        "    '''\n",
        "    getting all the sub departments urls and all products urls    \n",
        "    '''\n",
        "    \n",
        "    def __init__(self, hdr = {'User-Agent': 'Mozilla/5.0'}, domain = \"https://www.flooranddecor.com\", page_departments= ['/tile', '/stone', '/wood', '/laminate', '/vinyl',\n",
        "                                          '/decoratives', '/installation-materials']):\n",
        "        \n",
        "        self.page_departments = page_departments\n",
        "        self.hdr = hdr\n",
        "        self.domain = domain\n",
        "\n",
        "    # Crawl all the urls of the sub-departments under the departments we defined.  \n",
        "    def get_all_sub_departments_urls(self):\n",
        "        '''\n",
        "        Take departments' names as a list, and scrape all the sub-departments' urls \n",
        "        '''\n",
        "        sub_departments_urls_list = []\n",
        "\n",
        "        for deparement in self.page_departments:\n",
        "            deparement_url = self.validate_url_domain(deparement, self.domain)\n",
        "            print(deparement_url)\n",
        "            req = Request(deparement_url, headers= self.hdr)\n",
        "            text = urlopen(req).read()\n",
        "            soup = BeautifulSoup(text,\"lxml\")\n",
        "            urls = soup.find_all(\"a\", attrs={\"class\":'clp-link'})\n",
        "\n",
        "            for url in urls:\n",
        "                validated_url = self.validate_url_domain(url['href'], self.domain)\n",
        "                sub_departments_urls_list.append(validated_url)\n",
        "\n",
        "            print(\"******** num of scrapped sub-departments till now is {}\".format(len(sub_departments_urls_list)))\n",
        "            time.sleep(uniform(40, 60))\n",
        "\n",
        "        return sub_departments_urls_list\n",
        "\n",
        "\n",
        "    def get_sub_department_products_urls(self, url):\n",
        "        '''\n",
        "        take sub_department url as an input, and return all the products'urls it contains\n",
        "        '''\n",
        "        products_urls = []\n",
        "        req = Request(url, headers= self.hdr)\n",
        "        text = urlopen(req).read()\n",
        "        soup = BeautifulSoup(text,\"lxml\")\n",
        "        urls = soup.find_all(\"a\", attrs={\"class\":'b-product_tile-figure_link'})\n",
        "        \n",
        "        for url in urls:\n",
        "            validated_url = self.validate_url_domain(url['href'], self.domain)\n",
        "\n",
        "            try:\n",
        "                products_urls.append(validated_url)\n",
        "            except:\n",
        "                print(\"err occured while scraping:  {}\".format(url))\n",
        "\n",
        "        # print(\"******** num of scrapped products'urls till now is {}\".format(len(products_urls)))\n",
        "        time.sleep(uniform(20, 30))\n",
        "\n",
        "        return products_urls    \n",
        "\n",
        "\n",
        "\n",
        "class get_product_info:\n",
        "    '''\n",
        "    using product url, getting its information \n",
        "    '''\n",
        "    def __init__(self, product_url, hdr = {'User-Agent': 'Mozilla/5.0'}):\n",
        "        self.product_url = product_url\n",
        "        self.hdr = hdr\n",
        "        self._soup = None\n",
        "\n",
        "    @property\n",
        "    def soup(self):\n",
        "        if not self._soup:\n",
        "            print(\"Getting page content...\")\n",
        "            req = Request(self.product_url, headers= self.hdr)\n",
        "            text = urlopen(req).read()\n",
        "            self._soup = BeautifulSoup(text,\"lxml\")\n",
        "\n",
        "        return self._soup\n",
        "\n",
        "    def get_images(self):\n",
        "        images = self.soup.find_all(\"figure\", attrs={\"class\":'b-pdp_thumbnail-figure'})\n",
        "        images_urls = []\n",
        "        for image in images:\n",
        "            try:\n",
        "                image_url = image.find(\"img\", attrs = {\"class\":\"b-pdp_thumbnail-figure_img\"})['data-src']\n",
        "                images_urls.append(image_url)\n",
        "            except:\n",
        "                pass\n",
        "        return images_urls\n",
        "\n",
        "\n",
        "    def get_price(self):\n",
        "        try:\n",
        "            price = self.soup.find_all(\"span\", attrs={\"class\":'b-pdp_price-cost'})[0].text\n",
        "        except:\n",
        "            price = ''\n",
        "\n",
        "        return price\n",
        "\n",
        "\n",
        "    def get_specifications(self):\n",
        "\n",
        "        product_properties = self.soup.find_all(\"section\", attrs={\"class\":'b-pdp_specifications-container'})\n",
        "\n",
        "        '''\n",
        "        specifications is devided into three sections, we here scraped each section and saved them together under\n",
        "        the umberella of \"specifications\"\n",
        "        '''\n",
        "        specifications = {\"DIMENSIONS\":{},\"DETAILS\":{},\"INSTALLATION & WARRANTY\":{}  }\n",
        "        groups = [\"DIMENSIONS\", \"DETAILS\", \"INSTALLATION & WARRANTY\", \"\"]\n",
        "        \n",
        "        for i, product_property in enumerate(product_properties):\n",
        "            peoperties = product_property.find_all(\"span\", attrs={\"class\":'b-pdp_specifications-name'})\n",
        "            peoperties_val = product_property.find_all(\"span\", attrs={\"class\":'b-pdp_specifications-number'})\n",
        "\n",
        "            for pro, pro_val in zip(peoperties,peoperties_val):\n",
        "                try:\n",
        "                    if specifications[groups[i]].get(pro.string.strip()):\n",
        "                        specifications[groups[i]][pro.string.strip()] = [specifications[groups[i]][pro.string.strip()]]\n",
        "                        specifications[groups[i]][pro.string.strip()].append(pro_val.string.strip())\n",
        "\n",
        "                    else:\n",
        "                        specifications[groups[i]][pro.string.strip()] = pro_val.string.strip()\n",
        "                except:\n",
        "                    key = pro.text.split('\\n')[1].strip()\n",
        "                    if specifications[groups[i]].get(key):\n",
        "                        specifications[groups[i]][key] = [specifications[groups[i]][key]]\n",
        "                        specifications[groups[i]][key].append(pro_val.string.strip())\n",
        "\n",
        "                    else:\n",
        "                        specifications[groups[i]][key] = pro_val.string.strip()\n",
        "\n",
        "        return specifications\n",
        "\n",
        "    def  get_categories(self):\n",
        "\n",
        "        try:\n",
        "            categories = self.soup.find_all(\"a\", attrs={\"class\":'b-breadcrumbs-item_link'})\n",
        "\n",
        "            main_category = str(categories[1].string).replace('\\n\\t','').strip()\n",
        "            category = str(categories[2].string).replace('\\n\\t','').strip()\n",
        "            sub_category = str(categories[3].string).replace('\\n\\t','').strip()\n",
        "        except:\n",
        "            main_category = ''\n",
        "            category = ''\n",
        "            sub_category = ''\n",
        "\n",
        "        return main_category, category, sub_category\n",
        "\n",
        "\n",
        "    def get_title(self):\n",
        "        try:\n",
        "            properties = self.soup.find(\"h1\", attrs={\"class\":'b-pdp_title-name'})\n",
        "            title = properties.text\n",
        "        except:\n",
        "            title = ''\n",
        "        return title\n",
        "\n",
        "    def get_SKU_and_size(self):\n",
        "        try:\n",
        "            properties = self.soup.find_all(\"span\", attrs={\"class\":'b-pdp_details-element_value'})\n",
        "            SKU = properties[0].text\n",
        "            size = properties[1].text\n",
        "        except:\n",
        "            SKU = '' \n",
        "            size = ''\n",
        "\n",
        "        return SKU, size\n",
        "\n",
        "    def get_brand(self):\n",
        "        properties = self.soup.find(\"img\", attrs={\"class\":'b-pdp_title-brand_img'})\n",
        "        try:\n",
        "            brand = properties.get('alt')\n",
        "        except:\n",
        "            brand = ''\n",
        "        return brand\n",
        "\n",
        "    def get_discription(self):\n",
        "        properties = self.soup.find(\"div\", attrs={\"class\":'b-pdp_specifications-txt'})\n",
        "        try:\n",
        "            discription = properties.text\n",
        "        except:\n",
        "            discription = ''\n",
        "        return discription\n",
        "\n",
        "\n",
        "\n",
        "class floor_and_decoor_Scraper:\n",
        "    '''\n",
        "    The website is devided into 7 department, each one is devided into multiple sub-departments.\n",
        "    So, out methodology is based on: \n",
        "    \n",
        "    1. scraping all the sub_departments urls using composition with \"get_sub_departments_urls\" class.\n",
        "    2. itrate over all the sub_departments urls and scrape all the products' urls using a method through the same relationship.\n",
        "    3. using  the composition relation with \"get_product_info\" class, we will itrate over all the products' urls\n",
        "        and exrtact their information.\n",
        "    '''\n",
        "\n",
        "    def __init__(self, hdr = {'User-Agent': 'Mozilla/5.0'}, domain = \"https://www.flooranddecor.com\", departments= ['/tile', '/stone', '/wood', '/laminate', '/vinyl',\n",
        "                                          '/decoratives', '/installation-materials']):\n",
        "        self.hdr = hdr\n",
        "        self.domain = domain\n",
        "        self.sub_departments_urls_scrapper = get_sub_departments_urls(page_departments= departments)\n",
        "        self.products_urls = []         # to save all products urls       \n",
        "        self.skipped_urls = []\n",
        "        self.all_products = {}\n",
        "        self.skipped_scrapping_urls = []\n",
        "\n",
        "    def get_all_products_urls(self):\n",
        "        '''\n",
        "        This method work as a manager for \"get_sub_departments_urls\" class, it used the benifits we got using composition to get all departments urls,\n",
        "        and then itrate over them to get all the products' urls.\n",
        "        '''\n",
        "        skipped_urls = []\n",
        "        department_urls = self.sub_departments_urls_scrapper.get_all_sub_departments_urls()\n",
        "\n",
        "        # itrate over all main catefories urls\n",
        "        for category_index, sub_department_url in enumerate(department_urls):\n",
        "            try:\n",
        "                sub_catefory_url = '{}?start=0&sz=5000'.format(sub_department_url)\n",
        "                self.products_urls.extend(self.sub_departments_urls_scrapper.get_sub_department_products_urls(sub_catefory_url))\n",
        "                print(\"************** Crawling department num {} is finished with total crawled urls:  {}  **************\".format(category_index,len(list(set(self.products_urls)))))\n",
        "                time.sleep(uniform(40, 70))\n",
        "\n",
        "            except:\n",
        "                print(\"there is an error occured when we tried to crawl: {}\".format(sub_catefory_url))\n",
        "                self.skipped_urls.append(sub_catefory_url)\n",
        "                time.sleep(uniform(200, 300))\n",
        "\n",
        "        return list(set(self.products_urls)), self.skipped_urls\n",
        "\n",
        "\n",
        "    def Scraping_all_products(self, products_urls= None):\n",
        "\n",
        "        all_products = {}\n",
        "        skipped_urls = []\n",
        "        if not products_urls:\n",
        "            products_urls = self.products_urls\n",
        "\n",
        "        for product_index, product_url in enumerate(products_urls):\n",
        "\n",
        "            try:\n",
        "                product = get_product_info(product_url = product_url)       # Composition\n",
        "\n",
        "                product_title = product.get_title()\n",
        "                product_id = product_url.split('-')[-1].split('.')[0]\n",
        "                try:\n",
        "                    main_key = product_title\n",
        "                    self.all_products[main_key] = {}\n",
        "                except:\n",
        "                    main_key = product_title \n",
        "                    self.all_products[main_key] = {}\n",
        "                    \n",
        "                self.all_products[main_key][\"url\"] = product_url    \n",
        "                self.all_products[main_key][\"product id\"] = product_id\n",
        "                self.all_products[main_key][\"images urls\"] = product.get_images()\n",
        "                self.all_products[main_key][\"price\"] = product.get_price()\n",
        "                self.all_products[main_key][\"specifications\"] = product.get_specifications()\n",
        "\n",
        "                main_category, category, sub_category = product.get_categories()\n",
        "                self.all_products[main_key][\"main category\"] = main_category\n",
        "                self.all_products[main_key][\"category\"] = category\n",
        "                self.all_products[main_key][\"sub category\"] = sub_category\n",
        "\n",
        "                SKU, size = product.get_SKU_and_size()\n",
        "                self.all_products[main_key][\"SKU\"] = SKU\n",
        "                self.all_products[main_key][\"size\"] = size\n",
        "\n",
        "                self.all_products[main_key][\"brand\"] = product.get_brand()\n",
        "\n",
        "                self.all_products[main_key][\"discription\"] = product.get_discription()\n",
        "                time.sleep(uniform(60, 120))\n",
        "\n",
        "                print(\"************** Crawling product num {} is finished  **************\".format(product_index))\n",
        "                if product_index % 3 == 0:\n",
        "                    time.sleep(uniform(100, 150))\n",
        "\n",
        "                if product_index % 40 == 0:\n",
        "                    scrapped_dataframe = pd.DataFrame.from_dict(self.all_products)\n",
        "                    scrapped_dataframe.to_csv('Scrapped_floor_products_data_1_{}.csv'.format(product_index), index=True)\n",
        "\n",
        "                    skipped_dataframe = pd.DataFrame.from_dict(self.skipped_scrapping_urls)\n",
        "                    skipped_dataframe.to_csv('Skipped_floor_products_data_1_{}.csv'.format(product_index), index=False)\n",
        "\n",
        "            except:\n",
        "                print(\"there is an error occured when we tried to crawl: {}\".format(product_url))\n",
        "                self.skipped_scrapping_urls.append(product_url)\n",
        "                time.sleep(uniform(150, 250))\n",
        "\n",
        "        return self.all_products, self.skipped_scrapping_urls"
      ]
    },
    {
      "cell_type": "code",
      "source": [
        "from google.colab import drive\n",
        "drive.mount('/content/drive')"
      ],
      "metadata": {
        "id": "OrKDRQ4uaiW2",
        "outputId": "08881f9a-7ca8-43b4-b47b-f32d5d9be777",
        "colab": {
          "base_uri": "https://localhost:8080/"
        }
      },
      "execution_count": 59,
      "outputs": [
        {
          "output_type": "stream",
          "name": "stdout",
          "text": [
            "Mounted at /content/drive\n"
          ]
        }
      ]
    },
    {
      "cell_type": "code",
      "source": [
        "import os\n",
        "%cd /content/drive/MyDrive\n",
        "os.mkdir(\"floor\")\n",
        "\n",
        "%cd floor"
      ],
      "metadata": {
        "id": "MtvK_nKyaq3V",
        "outputId": "8752083e-456f-4015-e23f-ef50796e4f23",
        "colab": {
          "base_uri": "https://localhost:8080/"
        }
      },
      "execution_count": 60,
      "outputs": [
        {
          "output_type": "stream",
          "name": "stdout",
          "text": [
            "/content/drive/MyDrive\n",
            "/content/drive/MyDrive/floor\n"
          ]
        }
      ]
    },
    {
      "cell_type": "code",
      "source": [
        "# create scraper object\n",
        "crawler = floor_and_decoor_Scraper(hdr = {'User-Agent': 'Mozilla/5.0'}, domain = \"https://www.flooranddecor.com\")\n"
      ],
      "metadata": {
        "id": "lvl0fwuo_fxS"
      },
      "execution_count": 61,
      "outputs": []
    },
    {
      "cell_type": "code",
      "source": [
        "import pandas as pd\n",
        "df = pd.read_csv(\"/content/all_products_urls.csv\")\n",
        "products_utls = list(df['urls'])\n",
        "len(products_utls)"
      ],
      "metadata": {
        "id": "MDexvo4G_g0A",
        "outputId": "2aac0b3f-0e43-4825-b4c7-7f4aa095dce5",
        "colab": {
          "base_uri": "https://localhost:8080/"
        }
      },
      "execution_count": 62,
      "outputs": [
        {
          "output_type": "execute_result",
          "data": {
            "text/plain": [
              "4575"
            ]
          },
          "metadata": {},
          "execution_count": 62
        }
      ]
    },
    {
      "cell_type": "code",
      "source": [
        "# here we saved any urls that weren't scrapped successfully in skipped_urls, we can re-scrape them later\n",
        "all_products_info, skipped_urls = crawler.Scraping_all_products(products_utls[0:300])"
      ],
      "metadata": {
        "id": "APYDGaNj_g3B",
        "outputId": "f17edb5c-1abb-4fe3-efb8-ccc0a4bbee53",
        "colab": {
          "base_uri": "https://localhost:8080/"
        }
      },
      "execution_count": null,
      "outputs": [
        {
          "metadata": {
            "tags": null
          },
          "name": "stdout",
          "output_type": "stream",
          "text": [
            "Getting page content...\n",
            "************** Crawling product num 0 is finished  **************\n",
            "Getting page content...\n",
            "************** Crawling product num 1 is finished  **************\n",
            "Getting page content...\n",
            "************** Crawling product num 2 is finished  **************\n",
            "Getting page content...\n",
            "************** Crawling product num 3 is finished  **************\n",
            "Getting page content...\n",
            "Getting page content...\n",
            "there is an error occured when we tried to crawl: https://www.flooranddecor.com//schluter-installation-materials/schluter-kerdi-shower-kit-38in.-x-60in.-offset-abs-flange-2-100606896.html\n",
            "Getting page content...\n",
            "Getting page content...\n",
            "there is an error occured when we tried to crawl: https://www.flooranddecor.com//porcelain-tile/atlas-blue-matte-porcelain-tile-100884501.html\n",
            "Getting page content...\n",
            "Getting page content...\n",
            "there is an error occured when we tried to crawl: https://www.flooranddecor.com//duralux-performance-flooring/concrete-americano-rigid-core-luxury-vinyl-plank---foam-back-100899319.html\n"
          ]
        }
      ]
    },
    {
      "cell_type": "code",
      "source": [
        "scrapped_dataframe = pd.DataFrame.from_dict(all_products_info)\n",
        "scrapped_dataframe.to_csv('floor_products_data_1_{}.csv'.format(10), index=True)\n"
      ],
      "metadata": {
        "id": "0HS0wq2HX1W1"
      },
      "execution_count": 49,
      "outputs": []
    },
    {
      "cell_type": "code",
      "source": [
        "import pandas as pd\n",
        "data = pd.read_csv(\"/content/floor_products_data_1_10.csv\", index_col=0)\n",
        "data\n"
      ],
      "metadata": {
        "id": "8js6TrIGQXYG",
        "outputId": "a87cf5ab-85a3-46fb-ce65-b63371eb82aa",
        "colab": {
          "base_uri": "https://localhost:8080/",
          "height": 576
        }
      },
      "execution_count": 51,
      "outputs": [
        {
          "output_type": "execute_result",
          "data": {
            "text/html": [
              "\n",
              "  <div id=\"df-3102bb52-38a8-42c7-969c-47865bc8967d\">\n",
              "    <div class=\"colab-df-container\">\n",
              "      <div>\n",
              "<style scoped>\n",
              "    .dataframe tbody tr th:only-of-type {\n",
              "        vertical-align: middle;\n",
              "    }\n",
              "\n",
              "    .dataframe tbody tr th {\n",
              "        vertical-align: top;\n",
              "    }\n",
              "\n",
              "    .dataframe thead th {\n",
              "        text-align: right;\n",
              "    }\n",
              "</style>\n",
              "<table border=\"1\" class=\"dataframe\">\n",
              "  <thead>\n",
              "    <tr style=\"text-align: right;\">\n",
              "      <th></th>\n",
              "      <th>Calacatta Bluette I Marble Base Molding</th>\n",
              "      <th>Goldblatt 3in. Spring Steel Joint Knife</th>\n",
              "      <th>Schluter Bara-Rw Balcony Edge 1-3/16in. Aluminum Black Brown</th>\n",
              "    </tr>\n",
              "  </thead>\n",
              "  <tbody>\n",
              "    <tr>\n",
              "      <th>url</th>\n",
              "      <td>https://www.flooranddecor.com//finishing-piece...</td>\n",
              "      <td>https://www.flooranddecor.com//installation-to...</td>\n",
              "      <td>https://www.flooranddecor.com//tile-metal-trim...</td>\n",
              "    </tr>\n",
              "    <tr>\n",
              "      <th>product id</th>\n",
              "      <td>100885854</td>\n",
              "      <td>100523778</td>\n",
              "      <td>100521061</td>\n",
              "    </tr>\n",
              "    <tr>\n",
              "      <th>images urls</th>\n",
              "      <td>['https://i8.amplience.net/i/flooranddecor/100...</td>\n",
              "      <td>['https://i8.amplience.net/i/flooranddecor/100...</td>\n",
              "      <td>['https://i8.amplience.net/i/flooranddecor/100...</td>\n",
              "    </tr>\n",
              "    <tr>\n",
              "      <th>price</th>\n",
              "      <td>$18.99 / piece</td>\n",
              "      <td>$2.79 / piece</td>\n",
              "      <td>$54.73 / piece</td>\n",
              "    </tr>\n",
              "    <tr>\n",
              "      <th>specifications</th>\n",
              "      <td>{'DIMENSIONS': {'Size': '5 x 12', 'Product Len...</td>\n",
              "      <td>{'DIMENSIONS': {'Product Length': '9.5', 'Prod...</td>\n",
              "      <td>{'DIMENSIONS': {'Size': '1 3/16in.', 'Product ...</td>\n",
              "    </tr>\n",
              "    <tr>\n",
              "      <th>main category</th>\n",
              "      <td>stone</td>\n",
              "      <td>installation materials</td>\n",
              "      <td>installation materials</td>\n",
              "    </tr>\n",
              "    <tr>\n",
              "      <th>category</th>\n",
              "      <td>shop by type</td>\n",
              "      <td>shop tile &amp; stone installation</td>\n",
              "      <td>shop tile &amp; stone installation</td>\n",
              "    </tr>\n",
              "    <tr>\n",
              "      <th>sub category</th>\n",
              "      <td>finishing pieces</td>\n",
              "      <td>installation tools</td>\n",
              "      <td>metal trims &amp; transitional pieces</td>\n",
              "    </tr>\n",
              "    <tr>\n",
              "      <th>SKU</th>\n",
              "      <td>100885854</td>\n",
              "      <td>NaN</td>\n",
              "      <td>100521061</td>\n",
              "    </tr>\n",
              "    <tr>\n",
              "      <th>size</th>\n",
              "      <td>5 x 12</td>\n",
              "      <td>NaN</td>\n",
              "      <td>1 3/16in.</td>\n",
              "    </tr>\n",
              "    <tr>\n",
              "      <th>brand</th>\n",
              "      <td>Viviano</td>\n",
              "      <td>undefined</td>\n",
              "      <td>undefined</td>\n",
              "    </tr>\n",
              "    <tr>\n",
              "      <th>discription</th>\n",
              "      <td>\\nAdd a gorgeous accent to your next project w...</td>\n",
              "      <td>\\n•High impact nylon handle.•Pro spring steel ...</td>\n",
              "      <td>NaN</td>\n",
              "    </tr>\n",
              "  </tbody>\n",
              "</table>\n",
              "</div>\n",
              "      <button class=\"colab-df-convert\" onclick=\"convertToInteractive('df-3102bb52-38a8-42c7-969c-47865bc8967d')\"\n",
              "              title=\"Convert this dataframe to an interactive table.\"\n",
              "              style=\"display:none;\">\n",
              "        \n",
              "  <svg xmlns=\"http://www.w3.org/2000/svg\" height=\"24px\"viewBox=\"0 0 24 24\"\n",
              "       width=\"24px\">\n",
              "    <path d=\"M0 0h24v24H0V0z\" fill=\"none\"/>\n",
              "    <path d=\"M18.56 5.44l.94 2.06.94-2.06 2.06-.94-2.06-.94-.94-2.06-.94 2.06-2.06.94zm-11 1L8.5 8.5l.94-2.06 2.06-.94-2.06-.94L8.5 2.5l-.94 2.06-2.06.94zm10 10l.94 2.06.94-2.06 2.06-.94-2.06-.94-.94-2.06-.94 2.06-2.06.94z\"/><path d=\"M17.41 7.96l-1.37-1.37c-.4-.4-.92-.59-1.43-.59-.52 0-1.04.2-1.43.59L10.3 9.45l-7.72 7.72c-.78.78-.78 2.05 0 2.83L4 21.41c.39.39.9.59 1.41.59.51 0 1.02-.2 1.41-.59l7.78-7.78 2.81-2.81c.8-.78.8-2.07 0-2.86zM5.41 20L4 18.59l7.72-7.72 1.47 1.35L5.41 20z\"/>\n",
              "  </svg>\n",
              "      </button>\n",
              "      \n",
              "  <style>\n",
              "    .colab-df-container {\n",
              "      display:flex;\n",
              "      flex-wrap:wrap;\n",
              "      gap: 12px;\n",
              "    }\n",
              "\n",
              "    .colab-df-convert {\n",
              "      background-color: #E8F0FE;\n",
              "      border: none;\n",
              "      border-radius: 50%;\n",
              "      cursor: pointer;\n",
              "      display: none;\n",
              "      fill: #1967D2;\n",
              "      height: 32px;\n",
              "      padding: 0 0 0 0;\n",
              "      width: 32px;\n",
              "    }\n",
              "\n",
              "    .colab-df-convert:hover {\n",
              "      background-color: #E2EBFA;\n",
              "      box-shadow: 0px 1px 2px rgba(60, 64, 67, 0.3), 0px 1px 3px 1px rgba(60, 64, 67, 0.15);\n",
              "      fill: #174EA6;\n",
              "    }\n",
              "\n",
              "    [theme=dark] .colab-df-convert {\n",
              "      background-color: #3B4455;\n",
              "      fill: #D2E3FC;\n",
              "    }\n",
              "\n",
              "    [theme=dark] .colab-df-convert:hover {\n",
              "      background-color: #434B5C;\n",
              "      box-shadow: 0px 1px 3px 1px rgba(0, 0, 0, 0.15);\n",
              "      filter: drop-shadow(0px 1px 2px rgba(0, 0, 0, 0.3));\n",
              "      fill: #FFFFFF;\n",
              "    }\n",
              "  </style>\n",
              "\n",
              "      <script>\n",
              "        const buttonEl =\n",
              "          document.querySelector('#df-3102bb52-38a8-42c7-969c-47865bc8967d button.colab-df-convert');\n",
              "        buttonEl.style.display =\n",
              "          google.colab.kernel.accessAllowed ? 'block' : 'none';\n",
              "\n",
              "        async function convertToInteractive(key) {\n",
              "          const element = document.querySelector('#df-3102bb52-38a8-42c7-969c-47865bc8967d');\n",
              "          const dataTable =\n",
              "            await google.colab.kernel.invokeFunction('convertToInteractive',\n",
              "                                                     [key], {});\n",
              "          if (!dataTable) return;\n",
              "\n",
              "          const docLinkHtml = 'Like what you see? Visit the ' +\n",
              "            '<a target=\"_blank\" href=https://colab.research.google.com/notebooks/data_table.ipynb>data table notebook</a>'\n",
              "            + ' to learn more about interactive tables.';\n",
              "          element.innerHTML = '';\n",
              "          dataTable['output_type'] = 'display_data';\n",
              "          await google.colab.output.renderOutput(dataTable, element);\n",
              "          const docLink = document.createElement('div');\n",
              "          docLink.innerHTML = docLinkHtml;\n",
              "          element.appendChild(docLink);\n",
              "        }\n",
              "      </script>\n",
              "    </div>\n",
              "  </div>\n",
              "  "
            ],
            "text/plain": [
              "                          Calacatta Bluette I Marble Base Molding  ... Schluter Bara-Rw Balcony Edge 1-3/16in. Aluminum Black Brown\n",
              "url             https://www.flooranddecor.com//finishing-piece...  ...  https://www.flooranddecor.com//tile-metal-trim...          \n",
              "product id                                              100885854  ...                                          100521061          \n",
              "images urls     ['https://i8.amplience.net/i/flooranddecor/100...  ...  ['https://i8.amplience.net/i/flooranddecor/100...          \n",
              "price                                              $18.99 / piece  ...                                     $54.73 / piece          \n",
              "specifications  {'DIMENSIONS': {'Size': '5 x 12', 'Product Len...  ...  {'DIMENSIONS': {'Size': '1 3/16in.', 'Product ...          \n",
              "main category                                               stone  ...                             installation materials          \n",
              "category                                             shop by type  ...                     shop tile & stone installation          \n",
              "sub category                                     finishing pieces  ...                  metal trims & transitional pieces          \n",
              "SKU                                                     100885854  ...                                          100521061          \n",
              "size                                                       5 x 12  ...                                          1 3/16in.          \n",
              "brand                                                     Viviano  ...                                          undefined          \n",
              "discription     \\nAdd a gorgeous accent to your next project w...  ...                                                NaN          \n",
              "\n",
              "[12 rows x 3 columns]"
            ]
          },
          "metadata": {},
          "execution_count": 51
        }
      ]
    },
    {
      "cell_type": "markdown",
      "metadata": {
        "id": "imYzvR9ba4BM"
      },
      "source": [
        "## Test the code with one department"
      ]
    },
    {
      "cell_type": "code",
      "execution_count": null,
      "metadata": {
        "colab": {
          "base_uri": "https://localhost:8080/",
          "height": 1000
        },
        "id": "KN_TprxCTs-t",
        "outputId": "78f7df6d-4640-4255-a7a0-e84171d3c34e"
      },
      "outputs": [
        {
          "output_type": "stream",
          "name": "stdout",
          "text": [
            "https://www.flooranddecor.com/tile\n",
            "******** num of scrapped sub-departments till now is 36\n",
            "https://www.flooranddecor.com/stone\n",
            "******** num of scrapped sub-departments till now is 66\n",
            "https://www.flooranddecor.com/wood\n",
            "******** num of scrapped sub-departments till now is 99\n",
            "************** Crawling department num 0 is finished with total crawled urls:  2000  **************\n",
            "************** Crawling department num 1 is finished with total crawled urls:  2267  **************\n",
            "************** Crawling department num 2 is finished with total crawled urls:  2638  **************\n",
            "************** Crawling department num 3 is finished with total crawled urls:  2641  **************\n",
            "************** Crawling department num 4 is finished with total crawled urls:  2647  **************\n",
            "************** Crawling department num 5 is finished with total crawled urls:  2655  **************\n",
            "************** Crawling department num 6 is finished with total crawled urls:  2659  **************\n",
            "************** Crawling department num 7 is finished with total crawled urls:  2669  **************\n",
            "************** Crawling department num 8 is finished with total crawled urls:  2669  **************\n",
            "************** Crawling department num 9 is finished with total crawled urls:  2669  **************\n",
            "************** Crawling department num 10 is finished with total crawled urls:  2669  **************\n",
            "************** Crawling department num 11 is finished with total crawled urls:  2669  **************\n",
            "************** Crawling department num 12 is finished with total crawled urls:  2669  **************\n",
            "************** Crawling department num 13 is finished with total crawled urls:  2669  **************\n",
            "************** Crawling department num 14 is finished with total crawled urls:  2669  **************\n",
            "************** Crawling department num 15 is finished with total crawled urls:  2669  **************\n",
            "************** Crawling department num 16 is finished with total crawled urls:  2669  **************\n",
            "************** Crawling department num 17 is finished with total crawled urls:  2672  **************\n",
            "************** Crawling department num 18 is finished with total crawled urls:  2672  **************\n",
            "************** Crawling department num 19 is finished with total crawled urls:  2675  **************\n",
            "************** Crawling department num 20 is finished with total crawled urls:  2675  **************\n",
            "************** Crawling department num 21 is finished with total crawled urls:  2675  **************\n",
            "************** Crawling department num 22 is finished with total crawled urls:  2675  **************\n",
            "************** Crawling department num 23 is finished with total crawled urls:  2675  **************\n",
            "************** Crawling department num 24 is finished with total crawled urls:  2675  **************\n",
            "************** Crawling department num 25 is finished with total crawled urls:  2675  **************\n",
            "************** Crawling department num 26 is finished with total crawled urls:  2675  **************\n",
            "************** Crawling department num 27 is finished with total crawled urls:  2675  **************\n",
            "************** Crawling department num 28 is finished with total crawled urls:  2675  **************\n",
            "************** Crawling department num 29 is finished with total crawled urls:  2675  **************\n",
            "************** Crawling department num 30 is finished with total crawled urls:  2678  **************\n",
            "************** Crawling department num 31 is finished with total crawled urls:  2709  **************\n",
            "************** Crawling department num 32 is finished with total crawled urls:  2813  **************\n",
            "************** Crawling department num 33 is finished with total crawled urls:  2813  **************\n",
            "************** Crawling department num 34 is finished with total crawled urls:  2813  **************\n",
            "************** Crawling department num 35 is finished with total crawled urls:  2813  **************\n",
            "************** Crawling department num 36 is finished with total crawled urls:  2873  **************\n",
            "************** Crawling department num 37 is finished with total crawled urls:  2873  **************\n",
            "************** Crawling department num 38 is finished with total crawled urls:  2873  **************\n",
            "************** Crawling department num 39 is finished with total crawled urls:  2873  **************\n",
            "************** Crawling department num 40 is finished with total crawled urls:  2873  **************\n",
            "************** Crawling department num 41 is finished with total crawled urls:  2873  **************\n",
            "************** Crawling department num 42 is finished with total crawled urls:  2873  **************\n",
            "************** Crawling department num 43 is finished with total crawled urls:  2873  **************\n",
            "************** Crawling department num 44 is finished with total crawled urls:  2873  **************\n",
            "************** Crawling department num 45 is finished with total crawled urls:  2875  **************\n",
            "************** Crawling department num 46 is finished with total crawled urls:  2878  **************\n",
            "************** Crawling department num 47 is finished with total crawled urls:  2878  **************\n",
            "************** Crawling department num 48 is finished with total crawled urls:  2878  **************\n",
            "************** Crawling department num 49 is finished with total crawled urls:  2878  **************\n",
            "************** Crawling department num 50 is finished with total crawled urls:  2878  **************\n",
            "************** Crawling department num 51 is finished with total crawled urls:  2878  **************\n",
            "************** Crawling department num 52 is finished with total crawled urls:  2878  **************\n",
            "************** Crawling department num 53 is finished with total crawled urls:  2878  **************\n",
            "************** Crawling department num 54 is finished with total crawled urls:  2879  **************\n",
            "************** Crawling department num 55 is finished with total crawled urls:  2879  **************\n",
            "************** Crawling department num 56 is finished with total crawled urls:  2879  **************\n",
            "************** Crawling department num 57 is finished with total crawled urls:  2879  **************\n",
            "************** Crawling department num 58 is finished with total crawled urls:  2881  **************\n",
            "************** Crawling department num 59 is finished with total crawled urls:  2881  **************\n",
            "************** Crawling department num 60 is finished with total crawled urls:  2881  **************\n",
            "************** Crawling department num 61 is finished with total crawled urls:  2881  **************\n",
            "************** Crawling department num 62 is finished with total crawled urls:  2884  **************\n",
            "************** Crawling department num 63 is finished with total crawled urls:  2884  **************\n",
            "************** Crawling department num 64 is finished with total crawled urls:  3023  **************\n",
            "************** Crawling department num 65 is finished with total crawled urls:  3023  **************\n",
            "************** Crawling department num 66 is finished with total crawled urls:  3101  **************\n",
            "************** Crawling department num 67 is finished with total crawled urls:  3141  **************\n",
            "************** Crawling department num 68 is finished with total crawled urls:  3172  **************\n",
            "************** Crawling department num 69 is finished with total crawled urls:  3172  **************\n",
            "************** Crawling department num 70 is finished with total crawled urls:  3180  **************\n",
            "************** Crawling department num 71 is finished with total crawled urls:  3184  **************\n",
            "************** Crawling department num 72 is finished with total crawled urls:  3184  **************\n",
            "************** Crawling department num 73 is finished with total crawled urls:  3184  **************\n",
            "************** Crawling department num 74 is finished with total crawled urls:  3184  **************\n",
            "************** Crawling department num 75 is finished with total crawled urls:  3184  **************\n",
            "************** Crawling department num 76 is finished with total crawled urls:  3184  **************\n",
            "************** Crawling department num 77 is finished with total crawled urls:  3184  **************\n",
            "************** Crawling department num 78 is finished with total crawled urls:  3184  **************\n",
            "************** Crawling department num 79 is finished with total crawled urls:  3184  **************\n",
            "************** Crawling department num 80 is finished with total crawled urls:  3184  **************\n",
            "************** Crawling department num 81 is finished with total crawled urls:  3184  **************\n",
            "************** Crawling department num 82 is finished with total crawled urls:  3184  **************\n",
            "************** Crawling department num 83 is finished with total crawled urls:  3184  **************\n",
            "************** Crawling department num 84 is finished with total crawled urls:  3184  **************\n",
            "************** Crawling department num 85 is finished with total crawled urls:  3184  **************\n",
            "************** Crawling department num 86 is finished with total crawled urls:  3184  **************\n",
            "************** Crawling department num 87 is finished with total crawled urls:  3184  **************\n",
            "************** Crawling department num 88 is finished with total crawled urls:  3184  **************\n",
            "************** Crawling department num 89 is finished with total crawled urls:  3184  **************\n",
            "************** Crawling department num 90 is finished with total crawled urls:  3184  **************\n",
            "************** Crawling department num 91 is finished with total crawled urls:  3184  **************\n",
            "************** Crawling department num 92 is finished with total crawled urls:  3184  **************\n",
            "************** Crawling department num 93 is finished with total crawled urls:  3438  **************\n",
            "************** Crawling department num 94 is finished with total crawled urls:  3462  **************\n",
            "************** Crawling department num 95 is finished with total crawled urls:  3462  **************\n",
            "************** Crawling department num 96 is finished with total crawled urls:  3462  **************\n",
            "************** Crawling department num 97 is finished with total crawled urls:  3462  **************\n",
            "************** Crawling department num 98 is finished with total crawled urls:  3462  **************\n"
          ]
        },
        {
          "output_type": "error",
          "ename": "NameError",
          "evalue": "ignored",
          "traceback": [
            "\u001b[0;31m---------------------------------------------------------------------------\u001b[0m",
            "\u001b[0;31mNameError\u001b[0m                                 Traceback (most recent call last)",
            "\u001b[0;32m<ipython-input-5-662205060980>\u001b[0m in \u001b[0;36m<module>\u001b[0;34m()\u001b[0m\n\u001b[1;32m      1\u001b[0m \u001b[0mcrawler\u001b[0m \u001b[0;34m=\u001b[0m \u001b[0mfloor_and_decoor_Scraper\u001b[0m\u001b[0;34m(\u001b[0m\u001b[0mhdr\u001b[0m \u001b[0;34m=\u001b[0m \u001b[0;34m{\u001b[0m\u001b[0;34m'User-Agent'\u001b[0m\u001b[0;34m:\u001b[0m \u001b[0;34m'Mozilla/5.0'\u001b[0m\u001b[0;34m}\u001b[0m\u001b[0;34m,\u001b[0m \u001b[0mdomain\u001b[0m \u001b[0;34m=\u001b[0m \u001b[0;34m\"https://www.flooranddecor.com\"\u001b[0m\u001b[0;34m,\u001b[0m \u001b[0mdepartments\u001b[0m\u001b[0;34m=\u001b[0m  \u001b[0;34m[\u001b[0m\u001b[0;34m'/tile'\u001b[0m\u001b[0;34m,\u001b[0m \u001b[0;34m'/stone'\u001b[0m\u001b[0;34m,\u001b[0m \u001b[0;34m'/wood'\u001b[0m\u001b[0;34m]\u001b[0m \u001b[0;34m)\u001b[0m\u001b[0;34m\u001b[0m\u001b[0;34m\u001b[0m\u001b[0m\n\u001b[1;32m      2\u001b[0m \u001b[0mproducts_urls\u001b[0m\u001b[0;34m,\u001b[0m \u001b[0mskipped_urls\u001b[0m \u001b[0;34m=\u001b[0m \u001b[0mcrawler\u001b[0m\u001b[0;34m.\u001b[0m\u001b[0mget_all_products_urls\u001b[0m\u001b[0;34m(\u001b[0m\u001b[0;34m)\u001b[0m\u001b[0;34m\u001b[0m\u001b[0;34m\u001b[0m\u001b[0m\n\u001b[0;32m----> 3\u001b[0;31m \u001b[0mprint\u001b[0m\u001b[0;34m(\u001b[0m\u001b[0mproducts_url\u001b[0m\u001b[0;34m[\u001b[0m\u001b[0;34m:\u001b[0m\u001b[0;36m50\u001b[0m\u001b[0;34m]\u001b[0m\u001b[0;34m)\u001b[0m\u001b[0;34m\u001b[0m\u001b[0;34m\u001b[0m\u001b[0m\n\u001b[0m",
            "\u001b[0;31mNameError\u001b[0m: name 'products_url' is not defined"
          ]
        }
      ],
      "source": [
        "crawler = floor_and_decoor_Scraper(hdr = {'User-Agent': 'Mozilla/5.0'}, domain = \"https://www.flooranddecor.com\", departments=  ['/tile', '/stone', '/wood'] )\n",
        "products_urls, skipped_urls = crawler.get_all_products_urls()\n"
      ]
    },
    {
      "cell_type": "code",
      "source": [
        "len(products_urls)"
      ],
      "metadata": {
        "colab": {
          "base_uri": "https://localhost:8080/"
        },
        "id": "bRDJRyGxWABK",
        "outputId": "2eb01a98-0517-4ead-ab49-3ae67067fa6b"
      },
      "execution_count": null,
      "outputs": [
        {
          "output_type": "execute_result",
          "data": {
            "text/plain": [
              "3462"
            ]
          },
          "metadata": {},
          "execution_count": 6
        }
      ]
    },
    {
      "cell_type": "code",
      "source": [
        "products_urls"
      ],
      "metadata": {
        "colab": {
          "base_uri": "https://localhost:8080/",
          "height": 166
        },
        "id": "ta632Usn1Oqy",
        "outputId": "f378a4fc-2d38-4add-e002-bd44d659fc04"
      },
      "execution_count": null,
      "outputs": [
        {
          "output_type": "error",
          "ename": "NameError",
          "evalue": "ignored",
          "traceback": [
            "\u001b[0;31m---------------------------------------------------------------------------\u001b[0m",
            "\u001b[0;31mNameError\u001b[0m                                 Traceback (most recent call last)",
            "\u001b[0;32m<ipython-input-3-c11db77bac6e>\u001b[0m in \u001b[0;36m<module>\u001b[0;34m()\u001b[0m\n\u001b[0;32m----> 1\u001b[0;31m \u001b[0mproducts_urls\u001b[0m\u001b[0;34m\u001b[0m\u001b[0;34m\u001b[0m\u001b[0m\n\u001b[0m",
            "\u001b[0;31mNameError\u001b[0m: name 'products_urls' is not defined"
          ]
        }
      ]
    },
    {
      "cell_type": "markdown",
      "metadata": {
        "id": "9S1C51_jV4Tp"
      },
      "source": [
        "## Testing scraping products information using their urls"
      ]
    },
    {
      "cell_type": "code",
      "execution_count": null,
      "metadata": {
        "colab": {
          "base_uri": "https://localhost:8080/"
        },
        "id": "brf0-6rUbQwQ",
        "outputId": "9c0114a2-6996-4809-b2d1-caf11269329d"
      },
      "outputs": [
        {
          "name": "stdout",
          "output_type": "stream",
          "text": [
            "Getting page content...\n",
            "************** Crawling product num 0 is finished  **************\n",
            "Getting page content...\n",
            "************** Crawling product num 1 is finished  **************\n",
            "Getting page content...\n",
            "************** Crawling product num 2 is finished  **************\n"
          ]
        }
      ],
      "source": [
        "crawler = floor_and_decoor_Scraper()\n",
        "\n",
        "urls = [\"https://www.flooranddecor.com/glass-decoratives/ivory-glass-tile-100465673.html\",\n",
        "        \"https://www.flooranddecor.com/glass-decoratives/harbour-island-polished-linear-mosaic-100268952.html\",\n",
        "        \"https://www.flooranddecor.com/glass-tile/rhea-1-in.-glass-hexagon-mosaic-100899822.html\"\n",
        "        ]\n",
        "        \n",
        "all_products_info, skipped_urls = crawler.Scraping_all_products(urls)"
      ]
    },
    {
      "cell_type": "code",
      "execution_count": null,
      "metadata": {
        "colab": {
          "base_uri": "https://localhost:8080/"
        },
        "id": "fGgZNtkId7hh",
        "outputId": "ae0c4c4c-ce9b-458a-dd05-dc06434b0990"
      },
      "outputs": [
        {
          "data": {
            "text/plain": [
              "dict_keys(['Ivory Glass Tile', 'Harbour Island Polished Linear Mosaic', 'Rhea 1 in. Glass Hexagon Mosaic'])"
            ]
          },
          "execution_count": 11,
          "metadata": {},
          "output_type": "execute_result"
        }
      ],
      "source": [
        "all_products_info.keys()"
      ]
    },
    {
      "cell_type": "code",
      "execution_count": null,
      "metadata": {
        "colab": {
          "base_uri": "https://localhost:8080/"
        },
        "id": "JTrjvNafNysq",
        "outputId": "6db767c5-80bb-47d5-815a-91e81d8d558e"
      },
      "outputs": [
        {
          "data": {
            "text/plain": [
              "{'SKU': '100465673',\n",
              " 'brand': 'Pure',\n",
              " 'category': 'shop by material',\n",
              " 'discription': '\\nAdd an accent to your design with this 3 x 9 Ivory Glass Tile with a polished or high gloss finish.Straight and perfectly cut-to-size edges of this decorative create continuity.Decorative accents can be used to enhance kitchens, bathrooms, and other areas of your home. A stunning glass backsplash adds unique detail to any design. The wide range of shapes and colors found in our glass presents a great way to express creativity.This product can be installed on a shower wall.\\n',\n",
              " 'images urls': ['https://i8.amplience.net/i/flooranddecor/100465673_ivory-glass-tile_display?fmt=auto',\n",
              "  'https://i8.amplience.net/i/flooranddecor/100465673_ivory-glass-tile_1?fmt=auto',\n",
              "  'https://i8.amplience.net/i/flooranddecor/100465673_context?fmt=auto'],\n",
              " 'main category': 'decoratives',\n",
              " 'price': '$1.69 / piece',\n",
              " 'product id': '100465673',\n",
              " 'size': '3 x 9',\n",
              " 'specifications': {'DETAILS': {'Color': 'White',\n",
              "   'Edge': 'Straight or Rectified',\n",
              "   'Finish': 'Polished or High Gloss',\n",
              "   'Material': 'Glass'},\n",
              "  'DIMENSIONS': {'Box Length': '9.200',\n",
              "   'Box Quantity': '27',\n",
              "   'Box Weight': '20.887 lbs',\n",
              "   'Box Width': '10.830',\n",
              "   'Coverage (sqft/pc)': '0.19',\n",
              "   'Product Length': '9.0',\n",
              "   'Product Thickness': '8mm',\n",
              "   'Product Width': '3.0',\n",
              "   'Size': '3 x 9'},\n",
              "  'INSTALLATION & WARRANTY': {'Commercial / Residential Use': 'Residential/Commercial',\n",
              "   'Installation Options': 'Wall Only',\n",
              "   'Installation Type': 'Grout & Mortar',\n",
              "   'Placement Location': 'Indoor',\n",
              "   'Pool Surface': 'Pool Interiors',\n",
              "   'Shower Surface': ['Not Suitable for Shower Floors', 'Shower Walls'],\n",
              "   'Suggested Grout Line Size': '1/16 - 3/8'}},\n",
              " 'sub category': 'glass',\n",
              " 'url': 'https://www.flooranddecor.com/glass-decoratives/ivory-glass-tile-100465673.html'}"
            ]
          },
          "execution_count": 12,
          "metadata": {},
          "output_type": "execute_result"
        }
      ],
      "source": [
        "all_products_info['Ivory Glass Tile']"
      ]
    },
    {
      "cell_type": "code",
      "execution_count": null,
      "metadata": {
        "colab": {
          "base_uri": "https://localhost:8080/"
        },
        "id": "CUOZ-x8vflX-",
        "outputId": "b670ce8d-7fea-4517-fec5-0e95fab9509e"
      },
      "outputs": [
        {
          "data": {
            "text/plain": [
              "{'Harbour Island Polished Linear Mosaic': {'SKU': '100268952',\n",
              "  'brand': 'Montage',\n",
              "  'category': 'shop by material',\n",
              "  'discription': '\\nLiven up any room with this linear 12 x 12 Harbour Island Polished Linear Mosaic in blue.The long lines of a linear shaped glass decorative can make a small room seem bigger.Decorative accents can be used to enhance kitchens, bathrooms, and other areas of your home. A stunning glass or stone backsplash adds unique detail to any design. The wide range of shapes and colors found in our glass presents a great way to express creativity.This product can be installed on a shower wall.\\n',\n",
              "  'images urls': ['https://i8.amplience.net/i/flooranddecor/100268952_harbour-island-polished-linear-mosaic_display?fmt=auto',\n",
              "   'https://i8.amplience.net/i/flooranddecor/100268952_harbour-island-polished-linear-mosaic_1?fmt=auto',\n",
              "   'https://i8.amplience.net/i/flooranddecor/100268952_context?fmt=auto'],\n",
              "  'main category': 'decoratives',\n",
              "  'price': '$12.99 / piece',\n",
              "  'product id': '100268952',\n",
              "  'size': '12 x 12',\n",
              "  'specifications': {'DETAILS': {'Color': 'Blue',\n",
              "    'Edge': 'Straight or Rectified',\n",
              "    'Finish': 'Polished or High Gloss',\n",
              "    'Material': 'Glass'},\n",
              "   'DIMENSIONS': {'Box Length': '13.400',\n",
              "    'Box Quantity': '10',\n",
              "    'Box Weight': '24.2 lbs',\n",
              "    'Box Width': '12.400',\n",
              "    'Chip Size': 'Varies',\n",
              "    'Coverage (sqft/pc)': '0.97',\n",
              "    'Product Length': '11.7',\n",
              "    'Product Thickness': '8mm',\n",
              "    'Product Width': '11.7',\n",
              "    'Size': '12 x 12'},\n",
              "   'INSTALLATION & WARRANTY': {'Commercial / Residential Use': 'Residential/Commercial',\n",
              "    'Installation Options': 'Wall Only',\n",
              "    'Installation Type': 'Grout & Mortar',\n",
              "    'Placement Location': 'Indoor',\n",
              "    'Shower Surface': ['Not Suitable for Shower Floors', 'Shower Walls'],\n",
              "    'Suggested Grout Line Size': '1/16 - 3/8'}},\n",
              "  'sub category': 'glass',\n",
              "  'url': 'https://www.flooranddecor.com/glass-decoratives/harbour-island-polished-linear-mosaic-100268952.html'},\n",
              " 'Ivory Glass Tile': {'SKU': '100465673',\n",
              "  'brand': 'Pure',\n",
              "  'category': 'shop by material',\n",
              "  'discription': '\\nAdd an accent to your design with this 3 x 9 Ivory Glass Tile with a polished or high gloss finish.Straight and perfectly cut-to-size edges of this decorative create continuity.Decorative accents can be used to enhance kitchens, bathrooms, and other areas of your home. A stunning glass backsplash adds unique detail to any design. The wide range of shapes and colors found in our glass presents a great way to express creativity.This product can be installed on a shower wall.\\n',\n",
              "  'images urls': ['https://i8.amplience.net/i/flooranddecor/100465673_ivory-glass-tile_display?fmt=auto',\n",
              "   'https://i8.amplience.net/i/flooranddecor/100465673_ivory-glass-tile_1?fmt=auto',\n",
              "   'https://i8.amplience.net/i/flooranddecor/100465673_context?fmt=auto'],\n",
              "  'main category': 'decoratives',\n",
              "  'price': '$1.69 / piece',\n",
              "  'product id': '100465673',\n",
              "  'size': '3 x 9',\n",
              "  'specifications': {'DETAILS': {'Color': 'White',\n",
              "    'Edge': 'Straight or Rectified',\n",
              "    'Finish': 'Polished or High Gloss',\n",
              "    'Material': 'Glass'},\n",
              "   'DIMENSIONS': {'Box Length': '9.200',\n",
              "    'Box Quantity': '27',\n",
              "    'Box Weight': '20.887 lbs',\n",
              "    'Box Width': '10.830',\n",
              "    'Coverage (sqft/pc)': '0.19',\n",
              "    'Product Length': '9.0',\n",
              "    'Product Thickness': '8mm',\n",
              "    'Product Width': '3.0',\n",
              "    'Size': '3 x 9'},\n",
              "   'INSTALLATION & WARRANTY': {'Commercial / Residential Use': 'Residential/Commercial',\n",
              "    'Installation Options': 'Wall Only',\n",
              "    'Installation Type': 'Grout & Mortar',\n",
              "    'Placement Location': 'Indoor',\n",
              "    'Pool Surface': 'Pool Interiors',\n",
              "    'Shower Surface': ['Not Suitable for Shower Floors', 'Shower Walls'],\n",
              "    'Suggested Grout Line Size': '1/16 - 3/8'}},\n",
              "  'sub category': 'glass',\n",
              "  'url': 'https://www.flooranddecor.com/glass-decoratives/ivory-glass-tile-100465673.html'},\n",
              " 'Rhea 1 in. Glass Hexagon Mosaic': {'SKU': '100899822',\n",
              "  'brand': 'Montage',\n",
              "  'category': 'shop by material',\n",
              "  'discription': '\\nAdd an accent to your design with this 12 x 12 hexagon & octagon Rhea 1 in. Glass Hexagon Mosaic. The white color will enhance any space.Incorporate unique designs, with decorative layouts and textures, to any space. Glass tile, mosaics, and decorative accents are a great addition to any home. Choose from a wide range of styles and colors.This product can be installed on a shower wall.This product can be installed on a shower floor.\\n',\n",
              "  'images urls': ['https://i8.amplience.net/i/flooranddecor/100899822_rhea-1-in-glass-hexagon-mosaic_display?fmt=auto',\n",
              "   'https://i8.amplience.net/i/flooranddecor/100899822_rhea-1-in-glass-hexagon-mosaic_1?fmt=auto',\n",
              "   'https://i8.amplience.net/i/flooranddecor/100899822_context?fmt=auto',\n",
              "   'https://i8.amplience.net/i/flooranddecor/100899822_vendor0321-deco-glass-floor-bathroom_room?fmt=auto'],\n",
              "  'main category': 'tile',\n",
              "  'price': '$14.99 / piece',\n",
              "  'product id': '100899822',\n",
              "  'size': '12 x 12',\n",
              "  'specifications': {'DETAILS': {'Color': 'White',\n",
              "    'Edge': 'Pressed',\n",
              "    'Finish': 'Polished or High Gloss',\n",
              "    'Material': 'Glass'},\n",
              "   'DIMENSIONS': {'Box Length': '13.308',\n",
              "    'Box Quantity': '11',\n",
              "    'Box Weight': '27.17 lbs',\n",
              "    'Box Width': '13.386',\n",
              "    'Chip Size': '1in.',\n",
              "    'Coverage (sqft/pc)': '1.037',\n",
              "    'Product Length': '12.2',\n",
              "    'Product Thickness': '0.23',\n",
              "    'Product Width': '12.1',\n",
              "    'Size': '12 x 12'},\n",
              "   'INSTALLATION & WARRANTY': {'Installation Options': 'Floor/Wall',\n",
              "    'Installation Type': 'Grout & Mortar',\n",
              "    'Shower Surface': ['Shower Floors', 'Shower Walls'],\n",
              "    'Suggested Grout Line Size': '1/16 - 3/8'}},\n",
              "  'sub category': 'glass',\n",
              "  'url': 'https://www.flooranddecor.com/glass-tile/rhea-1-in.-glass-hexagon-mosaic-100899822.html'}}"
            ]
          },
          "execution_count": 13,
          "metadata": {},
          "output_type": "execute_result"
        }
      ],
      "source": [
        "all_products_info"
      ]
    },
    {
      "cell_type": "markdown",
      "metadata": {
        "id": "vK0dPbCsc0ef"
      },
      "source": [
        "# Scraping all products"
      ]
    },
    {
      "cell_type": "code",
      "execution_count": 10,
      "metadata": {
        "id": "v-LnIFuyL0Q8"
      },
      "outputs": [],
      "source": [
        "# create scraper object\n",
        "crawler = floor_and_decoor_Scraper(hdr = {'User-Agent': 'Mozilla/5.0'}, domain = \"https://www.flooranddecor.com\")\n"
      ]
    },
    {
      "cell_type": "markdown",
      "metadata": {
        "id": "sDq2vqpLOXCT"
      },
      "source": [
        "## if you want to start scraping from zero point, uncomment this cell and run it"
      ]
    },
    {
      "cell_type": "code",
      "execution_count": null,
      "metadata": {
        "colab": {
          "base_uri": "https://localhost:8080/",
          "height": 572
        },
        "id": "coXnQjchL1WA",
        "outputId": "86594c90-02e2-4217-e326-86661daffd81"
      },
      "outputs": [
        {
          "name": "stdout",
          "output_type": "stream",
          "text": [
            "https://www.flooranddecor.com/tile\n",
            "******** num of scrapped sub-departments till now is 36\n",
            "https://www.flooranddecor.com/stone\n",
            "******** num of scrapped sub-departments till now is 66\n",
            "https://www.flooranddecor.com/wood\n",
            "******** num of scrapped sub-departments till now is 99\n",
            "https://www.flooranddecor.com/laminate\n",
            "******** num of scrapped sub-departments till now is 121\n",
            "https://www.flooranddecor.com/vinyl\n",
            "******** num of scrapped sub-departments till now is 151\n",
            "https://www.flooranddecor.com/decoratives\n",
            "******** num of scrapped sub-departments till now is 179\n"
          ]
        },
        {
          "ename": "KeyboardInterrupt",
          "evalue": "ignored",
          "output_type": "error",
          "traceback": [
            "\u001b[0;31m---------------------------------------------------------------------------\u001b[0m",
            "\u001b[0;31mKeyboardInterrupt\u001b[0m                         Traceback (most recent call last)",
            "\u001b[0;32m<ipython-input-19-9facd9d01052>\u001b[0m in \u001b[0;36m<module>\u001b[0;34m()\u001b[0m\n\u001b[1;32m      1\u001b[0m \u001b[0;31m# if we want to scrape all the products'urls by ourselves again\u001b[0m\u001b[0;34m\u001b[0m\u001b[0;34m\u001b[0m\u001b[0;34m\u001b[0m\u001b[0m\n\u001b[0;32m----> 2\u001b[0;31m \u001b[0mproducts_urls\u001b[0m\u001b[0;34m,\u001b[0m \u001b[0mskipped_urls\u001b[0m \u001b[0;34m=\u001b[0m \u001b[0mcrawler\u001b[0m\u001b[0;34m.\u001b[0m\u001b[0mget_all_products_urls\u001b[0m\u001b[0;34m(\u001b[0m\u001b[0;34m)\u001b[0m\u001b[0;34m\u001b[0m\u001b[0;34m\u001b[0m\u001b[0m\n\u001b[0m\u001b[1;32m      3\u001b[0m \u001b[0;34m\u001b[0m\u001b[0m\n\u001b[1;32m      4\u001b[0m \u001b[0;31m# all_products_info, skipped_urls = crawler.Scraping_all_products()\u001b[0m\u001b[0;34m\u001b[0m\u001b[0;34m\u001b[0m\u001b[0;34m\u001b[0m\u001b[0m\n",
            "\u001b[0;32m<ipython-input-17-afab3cb784ac>\u001b[0m in \u001b[0;36mget_all_products_urls\u001b[0;34m(self)\u001b[0m\n\u001b[1;32m    229\u001b[0m         '''\n\u001b[1;32m    230\u001b[0m         \u001b[0mskipped_urls\u001b[0m \u001b[0;34m=\u001b[0m \u001b[0;34m[\u001b[0m\u001b[0;34m]\u001b[0m\u001b[0;34m\u001b[0m\u001b[0;34m\u001b[0m\u001b[0m\n\u001b[0;32m--> 231\u001b[0;31m         \u001b[0mdepartment_urls\u001b[0m \u001b[0;34m=\u001b[0m \u001b[0mself\u001b[0m\u001b[0;34m.\u001b[0m\u001b[0msub_departments_urls_scrapper\u001b[0m\u001b[0;34m.\u001b[0m\u001b[0mget_all_sub_departments_urls\u001b[0m\u001b[0;34m(\u001b[0m\u001b[0;34m)\u001b[0m\u001b[0;34m\u001b[0m\u001b[0;34m\u001b[0m\u001b[0m\n\u001b[0m\u001b[1;32m    232\u001b[0m \u001b[0;34m\u001b[0m\u001b[0m\n\u001b[1;32m    233\u001b[0m         \u001b[0;31m# itrate over all main catefories urls\u001b[0m\u001b[0;34m\u001b[0m\u001b[0;34m\u001b[0m\u001b[0;34m\u001b[0m\u001b[0m\n",
            "\u001b[0;32m<ipython-input-17-afab3cb784ac>\u001b[0m in \u001b[0;36mget_all_sub_departments_urls\u001b[0;34m(self)\u001b[0m\n\u001b[1;32m     48\u001b[0m \u001b[0;34m\u001b[0m\u001b[0m\n\u001b[1;32m     49\u001b[0m             \u001b[0mprint\u001b[0m\u001b[0;34m(\u001b[0m\u001b[0;34m\"******** num of scrapped sub-departments till now is {}\"\u001b[0m\u001b[0;34m.\u001b[0m\u001b[0mformat\u001b[0m\u001b[0;34m(\u001b[0m\u001b[0mlen\u001b[0m\u001b[0;34m(\u001b[0m\u001b[0msub_departments_urls_list\u001b[0m\u001b[0;34m)\u001b[0m\u001b[0;34m)\u001b[0m\u001b[0;34m)\u001b[0m\u001b[0;34m\u001b[0m\u001b[0;34m\u001b[0m\u001b[0m\n\u001b[0;32m---> 50\u001b[0;31m             \u001b[0mtime\u001b[0m\u001b[0;34m.\u001b[0m\u001b[0msleep\u001b[0m\u001b[0;34m(\u001b[0m\u001b[0muniform\u001b[0m\u001b[0;34m(\u001b[0m\u001b[0;36m40\u001b[0m\u001b[0;34m,\u001b[0m \u001b[0;36m60\u001b[0m\u001b[0;34m)\u001b[0m\u001b[0;34m)\u001b[0m\u001b[0;34m\u001b[0m\u001b[0;34m\u001b[0m\u001b[0m\n\u001b[0m\u001b[1;32m     51\u001b[0m \u001b[0;34m\u001b[0m\u001b[0m\n\u001b[1;32m     52\u001b[0m         \u001b[0;32mreturn\u001b[0m \u001b[0msub_departments_urls_list\u001b[0m\u001b[0;34m\u001b[0m\u001b[0;34m\u001b[0m\u001b[0m\n",
            "\u001b[0;31mKeyboardInterrupt\u001b[0m: "
          ]
        }
      ],
      "source": [
        "# if we want to scrape all the products'urls by ourselves again\n",
        "products_urls, skipped_urls = crawler.get_all_products_urls()\n",
        "\n",
        "# all_products_info, skipped_urls = crawler.Scraping_all_products()"
      ]
    },
    {
      "cell_type": "code",
      "execution_count": null,
      "metadata": {
        "colab": {
          "base_uri": "https://localhost:8080/",
          "height": 166
        },
        "id": "qMpKqrLQAqZA",
        "outputId": "58e12273-2b31-425a-aef1-bb1db519f746"
      },
      "outputs": [
        {
          "ename": "NameError",
          "evalue": "ignored",
          "output_type": "error",
          "traceback": [
            "\u001b[0;31m---------------------------------------------------------------------------\u001b[0m",
            "\u001b[0;31mNameError\u001b[0m                                 Traceback (most recent call last)",
            "\u001b[0;32m<ipython-input-14-c11db77bac6e>\u001b[0m in \u001b[0;36m<module>\u001b[0;34m()\u001b[0m\n\u001b[0;32m----> 1\u001b[0;31m \u001b[0mproducts_urls\u001b[0m\u001b[0;34m\u001b[0m\u001b[0;34m\u001b[0m\u001b[0m\n\u001b[0m",
            "\u001b[0;31mNameError\u001b[0m: name 'products_urls' is not defined"
          ]
        }
      ],
      "source": [
        "products_urls"
      ]
    },
    {
      "cell_type": "markdown",
      "metadata": {
        "id": "m7ZHtwfYgqSW"
      },
      "source": [
        "# Save results"
      ]
    },
    {
      "cell_type": "code",
      "execution_count": null,
      "metadata": {
        "id": "1Q7MiEPUglGS"
      },
      "outputs": [],
      "source": [
        "import pandas as pd\n",
        "df = pd.DataFrame(products_urls, columns=[\"urls\"])\n",
        "df.to_csv('floor_products_urls1.csv', index=False)"
      ]
    },
    {
      "cell_type": "markdown",
      "metadata": {
        "id": "G8da1T6IMdUr"
      },
      "source": [
        "## I've scraped all the products url's, we can read them dirctly from the csv file instead of scraping them again."
      ]
    },
    {
      "cell_type": "code",
      "execution_count": 5,
      "metadata": {
        "colab": {
          "base_uri": "https://localhost:8080/"
        },
        "id": "yQxenDudMn9H",
        "outputId": "9c1b67da-faa5-4586-ddf4-8523ce016a3e"
      },
      "outputs": [
        {
          "output_type": "execute_result",
          "data": {
            "text/plain": [
              "4575"
            ]
          },
          "metadata": {},
          "execution_count": 5
        }
      ],
      "source": [
        "import pandas as pd\n",
        "df = pd.read_csv(\"/content/all_products_urls.csv\")\n",
        "products_utls = list(df['urls'])\n",
        "len(products_utls)"
      ]
    },
    {
      "cell_type": "code",
      "execution_count": 1,
      "metadata": {
        "id": "VW4aenMNc46g",
        "colab": {
          "base_uri": "https://localhost:8080/",
          "height": 218
        },
        "outputId": "9ce8a71d-5ff8-433a-f4a4-701e0791eaff"
      },
      "outputs": [
        {
          "output_type": "error",
          "ename": "NameError",
          "evalue": "ignored",
          "traceback": [
            "\u001b[0;31m---------------------------------------------------------------------------\u001b[0m",
            "\u001b[0;31mNameError\u001b[0m                                 Traceback (most recent call last)",
            "\u001b[0;32m<ipython-input-1-47447ef9366c>\u001b[0m in \u001b[0;36m<module>\u001b[0;34m()\u001b[0m\n\u001b[1;32m      1\u001b[0m \u001b[0;34m\u001b[0m\u001b[0m\n\u001b[1;32m      2\u001b[0m \u001b[0;31m# here we saved any urls that weren't scrapped successfully in skipped_urls, we can re-scrape them later\u001b[0m\u001b[0;34m\u001b[0m\u001b[0;34m\u001b[0m\u001b[0;34m\u001b[0m\u001b[0m\n\u001b[0;32m----> 3\u001b[0;31m \u001b[0mall_products_info\u001b[0m\u001b[0;34m,\u001b[0m \u001b[0mskipped_urls\u001b[0m \u001b[0;34m=\u001b[0m \u001b[0mcrawler\u001b[0m\u001b[0;34m.\u001b[0m\u001b[0mScraping_all_products\u001b[0m\u001b[0;34m(\u001b[0m\u001b[0mproducts_utls\u001b[0m\u001b[0;34m[\u001b[0m\u001b[0;34m:\u001b[0m\u001b[0;36m300\u001b[0m\u001b[0;34m]\u001b[0m\u001b[0;34m)\u001b[0m\u001b[0;34m\u001b[0m\u001b[0;34m\u001b[0m\u001b[0m\n\u001b[0m",
            "\u001b[0;31mNameError\u001b[0m: name 'crawler' is not defined"
          ]
        }
      ],
      "source": [
        "\n",
        "# here we saved any urls that weren't scrapped successfully in skipped_urls, we can re-scrape them later\n",
        "all_products_info, skipped_urls = crawler.Scraping_all_products(products_utls[:300])"
      ]
    },
    {
      "cell_type": "code",
      "execution_count": 6,
      "metadata": {
        "id": "VVUE1ummc49k",
        "colab": {
          "base_uri": "https://localhost:8080/"
        },
        "outputId": "0ccb9d49-2a8d-4d4f-e552-ef90b3a2e520"
      },
      "outputs": [
        {
          "output_type": "execute_result",
          "data": {
            "text/plain": [
              "{'Calacatta Bluette I Marble Base Molding': {'SKU': '100885854',\n",
              "  'brand': 'Viviano',\n",
              "  'category': 'shop by type',\n",
              "  'discription': '\\nAdd a gorgeous accent to your next project with this 5 x 12 Calacatta Bluette I Marble Base Molding.Add interest to your decorative design with an elaborate or simple border. Borders add elegance and are used to frame a tiled area.\\n',\n",
              "  'images urls': ['https://i8.amplience.net/i/flooranddecor/100885854_calacatta-bluette-i-marble-base-molding_1?fmt=auto',\n",
              "   'https://i8.amplience.net/i/flooranddecor/100885854_2?fmt=auto'],\n",
              "  'main category': 'stone',\n",
              "  'price': '$18.99 / piece',\n",
              "  'product id': '100885854',\n",
              "  'size': '5 x 12',\n",
              "  'specifications': {'DETAILS': {'Color': 'Blue',\n",
              "    'Color Variation': '3',\n",
              "    'Country of Origin': 'Italy',\n",
              "    'Edge': 'Straight or Rectified',\n",
              "    'Finish': 'Polished or High Gloss',\n",
              "    'Material': 'Marble',\n",
              "    'Water Resistance': 'Water Resistant (with proper sealant)'},\n",
              "   'DIMENSIONS': {'Box Length': '12.200',\n",
              "    'Box Quantity': '6',\n",
              "    'Box Weight': '25.86 lbs',\n",
              "    'Box Width': '4.700',\n",
              "    'Coverage (sqft/pc)': '0.416666667',\n",
              "    'Product Length': '12.0',\n",
              "    'Product Thickness': '.7 in',\n",
              "    'Product Width': '5.0',\n",
              "    'Size': '5 x 12'},\n",
              "   'INSTALLATION & WARRANTY': {'Installation Options': 'Wall Only',\n",
              "    'Installation Type': 'Grout & Mortar',\n",
              "    'Sealant': 'Recommended',\n",
              "    'Shower Surface': ['Not Suitable for Shower Floors', 'Shower Walls'],\n",
              "    'Suggested Grout Line Size': '1/16 - 3/8'}},\n",
              "  'sub category': 'finishing pieces',\n",
              "  'url': 'https://www.flooranddecor.com//finishing-pieces-stone/calacatta-bluette-i-marble-base-molding-100885854.html'},\n",
              " 'Goldblatt 3in. Spring Steel Joint Knife': {'SKU': '',\n",
              "  'brand': 'undefined',\n",
              "  'category': 'shop tile & stone installation',\n",
              "  'discription': '\\n•High impact nylon handle.•Pro spring steel Blade.•Flexible.\\n',\n",
              "  'images urls': ['https://i8.amplience.net/i/flooranddecor/100523778_goldblatt-3in-spring-steel-joint-knife_1?fmt=auto'],\n",
              "  'main category': 'installation materials',\n",
              "  'price': '$2.79 / piece',\n",
              "  'product id': '100523778',\n",
              "  'size': '',\n",
              "  'specifications': {'DETAILS': {'Project': 'Tools'},\n",
              "   'DIMENSIONS': {'Item Weight (lbs)': '0.4',\n",
              "    'Product Length': '9.5',\n",
              "    'Product Width': '3.0'},\n",
              "   'INSTALLATION & WARRANTY': {'Warranty': 'Sold As Is.'}},\n",
              "  'sub category': 'installation tools',\n",
              "  'url': 'https://www.flooranddecor.com//installation-tools-tile-stone-installation-materials/goldblatt-3in.-spring-steel-joint-knife-100523778.html'},\n",
              " 'Schluter Bara-Rw Balcony Edge 1-3/16in. Aluminum Black Brown': {'SKU': '100521061',\n",
              "  'brand': 'undefined',\n",
              "  'category': 'shop tile & stone installation',\n",
              "  'discription': '',\n",
              "  'images urls': ['https://i8.amplience.net/i/flooranddecor/100521061_schluter-bara-rw-balcony-edge-1-3-16in-aluminum-black-brown_1?fmt=auto',\n",
              "   'https://i8.amplience.net/i/flooranddecor/100521061_8?fmt=auto'],\n",
              "  'main category': 'installation materials',\n",
              "  'price': '$54.73 / piece',\n",
              "  'product id': '100521061',\n",
              "  'size': '1 3/16in.',\n",
              "  'specifications': {'DETAILS': {'Color': 'Black Brown',\n",
              "    'Color/Finish Family': 'Brown',\n",
              "    'Finish': 'Color Coated Aluminum',\n",
              "    'Project': 'Trims & Transitional Pieces'},\n",
              "   'DIMENSIONS': {'Item Weight (lbs)': '1.95',\n",
              "    'Product Length': '98.5',\n",
              "    'Product Width': '3.5',\n",
              "    'Size': '1 3/16in.'},\n",
              "   'INSTALLATION & WARRANTY': {'Commercial / Residential Use': 'Residential/Commercial',\n",
              "    'Placement Location': 'Outdoor',\n",
              "    'Warranty': '5 Year Limited'}},\n",
              "  'sub category': 'metal trims & transitional pieces',\n",
              "  'url': 'https://www.flooranddecor.com//tile-metal-trims-transitional-pieces-installation-materials/schluter-bara-rw-balcony-edge-1-3-16in.-aluminum-black-brown-100521061.html'},\n",
              " 'Schluter Kerdi-Shower Kit 38in. x 60in. Offset ABS Flange 2': {'SKU': '100606896',\n",
              "  'brand': '',\n",
              "  'category': 'shop by brand',\n",
              "  'discription': '',\n",
              "  'images urls': ['https://i8.amplience.net/i/flooranddecor/100606896_schluter-kerdi-shower-kit-38in-x-60in-offset-abs-flange-2_1?fmt=auto',\n",
              "   'https://i8.amplience.net/i/flooranddecor/100606896_8?fmt=auto'],\n",
              "  'main category': 'installation materials',\n",
              "  'price': '$537.95 / piece',\n",
              "  'product id': '100606896',\n",
              "  'size': '38in. x 60in.',\n",
              "  'specifications': {'DETAILS': {'Project': 'Bathroom & Shower Installation Supplies'},\n",
              "   'DIMENSIONS': {'Item Weight (lbs)': '22',\n",
              "    'Product Length': '8.2',\n",
              "    'Product Width': '39.6',\n",
              "    'Size': '38in. x 60in.'},\n",
              "   'INSTALLATION & WARRANTY': {'Commercial / Residential Use': 'Residential/Commercial',\n",
              "    'Placement Location': 'Indoor',\n",
              "    'Warranty': '10 Year Limited Warranty'}},\n",
              "  'sub category': 'schluter',\n",
              "  'url': 'https://www.flooranddecor.com//schluter-installation-materials/schluter-kerdi-shower-kit-38in.-x-60in.-offset-abs-flange-2-100606896.html'},\n",
              " 'Schluter Kerdi-Shower Side Linear Tray 39in. x 39in.': {'SKU': '100583764',\n",
              "  'brand': 'undefined',\n",
              "  'category': 'shop by brand',\n",
              "  'discription': '',\n",
              "  'images urls': ['https://i8.amplience.net/i/flooranddecor/100583764_schluter-kerdi-shower-side-linear-tray-39in-x-39in_1?fmt=auto',\n",
              "   'https://i8.amplience.net/i/flooranddecor/100583764_8?fmt=auto',\n",
              "   'https://i8.amplience.net/i/flooranddecor/100583764_9?fmt=auto'],\n",
              "  'main category': 'installation materials',\n",
              "  'price': '$187.31 / piece',\n",
              "  'product id': '100583764',\n",
              "  'size': '39in. X 39in.',\n",
              "  'specifications': {'DETAILS': {'Color/Finish Family': 'ORANGE',\n",
              "    'Project': 'Bathroom & Shower Installation Supplies'},\n",
              "   'DIMENSIONS': {'Item Weight (lbs)': '6.6',\n",
              "    'Product Length': '39.0',\n",
              "    'Product Width': '39.0',\n",
              "    'Size': '39in. X 39in.'},\n",
              "   'INSTALLATION & WARRANTY': {'Commercial / Residential Use': 'Residential/Commercial',\n",
              "    'Placement Location': 'Indoor',\n",
              "    'Warranty': '10 Year Limited'}},\n",
              "  'sub category': 'schluter',\n",
              "  'url': 'https://www.flooranddecor.com//schluter-installation-materials/schluter-kerdi-shower-side-linear-tray-39in.-x-39in.-100583764.html'}}"
            ]
          },
          "metadata": {},
          "execution_count": 6
        }
      ],
      "source": [
        "all_products_info"
      ]
    },
    {
      "cell_type": "code",
      "execution_count": 7,
      "metadata": {
        "id": "h5YgxUHUjNsf"
      },
      "outputs": [],
      "source": [
        "new = pd.DataFrame.from_dict(all_products_info)"
      ]
    },
    {
      "cell_type": "code",
      "source": [
        "new.head()"
      ],
      "metadata": {
        "colab": {
          "base_uri": "https://localhost:8080/",
          "height": 322
        },
        "id": "0lQhPcT4aMpW",
        "outputId": "570bac71-b5c0-43f0-bbc5-f8cbf675b019"
      },
      "execution_count": 8,
      "outputs": [
        {
          "output_type": "execute_result",
          "data": {
            "text/html": [
              "\n",
              "  <div id=\"df-06c23060-cfb4-4fb6-b89e-21a5b9406310\">\n",
              "    <div class=\"colab-df-container\">\n",
              "      <div>\n",
              "<style scoped>\n",
              "    .dataframe tbody tr th:only-of-type {\n",
              "        vertical-align: middle;\n",
              "    }\n",
              "\n",
              "    .dataframe tbody tr th {\n",
              "        vertical-align: top;\n",
              "    }\n",
              "\n",
              "    .dataframe thead th {\n",
              "        text-align: right;\n",
              "    }\n",
              "</style>\n",
              "<table border=\"1\" class=\"dataframe\">\n",
              "  <thead>\n",
              "    <tr style=\"text-align: right;\">\n",
              "      <th></th>\n",
              "      <th>Calacatta Bluette I Marble Base Molding</th>\n",
              "      <th>Goldblatt 3in. Spring Steel Joint Knife</th>\n",
              "      <th>Schluter Bara-Rw Balcony Edge 1-3/16in. Aluminum Black Brown</th>\n",
              "      <th>Schluter Kerdi-Shower Side Linear Tray 39in. x 39in.</th>\n",
              "      <th>Schluter Kerdi-Shower Kit 38in. x 60in. Offset ABS Flange 2</th>\n",
              "    </tr>\n",
              "  </thead>\n",
              "  <tbody>\n",
              "    <tr>\n",
              "      <th>url</th>\n",
              "      <td>https://www.flooranddecor.com//finishing-piece...</td>\n",
              "      <td>https://www.flooranddecor.com//installation-to...</td>\n",
              "      <td>https://www.flooranddecor.com//tile-metal-trim...</td>\n",
              "      <td>https://www.flooranddecor.com//schluter-instal...</td>\n",
              "      <td>https://www.flooranddecor.com//schluter-instal...</td>\n",
              "    </tr>\n",
              "    <tr>\n",
              "      <th>product id</th>\n",
              "      <td>100885854</td>\n",
              "      <td>100523778</td>\n",
              "      <td>100521061</td>\n",
              "      <td>100583764</td>\n",
              "      <td>100606896</td>\n",
              "    </tr>\n",
              "    <tr>\n",
              "      <th>images urls</th>\n",
              "      <td>[https://i8.amplience.net/i/flooranddecor/1008...</td>\n",
              "      <td>[https://i8.amplience.net/i/flooranddecor/1005...</td>\n",
              "      <td>[https://i8.amplience.net/i/flooranddecor/1005...</td>\n",
              "      <td>[https://i8.amplience.net/i/flooranddecor/1005...</td>\n",
              "      <td>[https://i8.amplience.net/i/flooranddecor/1006...</td>\n",
              "    </tr>\n",
              "    <tr>\n",
              "      <th>price</th>\n",
              "      <td>$18.99 / piece</td>\n",
              "      <td>$2.79 / piece</td>\n",
              "      <td>$54.73 / piece</td>\n",
              "      <td>$187.31 / piece</td>\n",
              "      <td>$537.95 / piece</td>\n",
              "    </tr>\n",
              "    <tr>\n",
              "      <th>specifications</th>\n",
              "      <td>{'DIMENSIONS': {'Size': '5 x 12', 'Product Len...</td>\n",
              "      <td>{'DIMENSIONS': {'Product Length': '9.5', 'Prod...</td>\n",
              "      <td>{'DIMENSIONS': {'Size': '1 3/16in.', 'Product ...</td>\n",
              "      <td>{'DIMENSIONS': {'Size': '39in. X 39in.', 'Prod...</td>\n",
              "      <td>{'DIMENSIONS': {'Size': '38in. x 60in.', 'Prod...</td>\n",
              "    </tr>\n",
              "  </tbody>\n",
              "</table>\n",
              "</div>\n",
              "      <button class=\"colab-df-convert\" onclick=\"convertToInteractive('df-06c23060-cfb4-4fb6-b89e-21a5b9406310')\"\n",
              "              title=\"Convert this dataframe to an interactive table.\"\n",
              "              style=\"display:none;\">\n",
              "        \n",
              "  <svg xmlns=\"http://www.w3.org/2000/svg\" height=\"24px\"viewBox=\"0 0 24 24\"\n",
              "       width=\"24px\">\n",
              "    <path d=\"M0 0h24v24H0V0z\" fill=\"none\"/>\n",
              "    <path d=\"M18.56 5.44l.94 2.06.94-2.06 2.06-.94-2.06-.94-.94-2.06-.94 2.06-2.06.94zm-11 1L8.5 8.5l.94-2.06 2.06-.94-2.06-.94L8.5 2.5l-.94 2.06-2.06.94zm10 10l.94 2.06.94-2.06 2.06-.94-2.06-.94-.94-2.06-.94 2.06-2.06.94z\"/><path d=\"M17.41 7.96l-1.37-1.37c-.4-.4-.92-.59-1.43-.59-.52 0-1.04.2-1.43.59L10.3 9.45l-7.72 7.72c-.78.78-.78 2.05 0 2.83L4 21.41c.39.39.9.59 1.41.59.51 0 1.02-.2 1.41-.59l7.78-7.78 2.81-2.81c.8-.78.8-2.07 0-2.86zM5.41 20L4 18.59l7.72-7.72 1.47 1.35L5.41 20z\"/>\n",
              "  </svg>\n",
              "      </button>\n",
              "      \n",
              "  <style>\n",
              "    .colab-df-container {\n",
              "      display:flex;\n",
              "      flex-wrap:wrap;\n",
              "      gap: 12px;\n",
              "    }\n",
              "\n",
              "    .colab-df-convert {\n",
              "      background-color: #E8F0FE;\n",
              "      border: none;\n",
              "      border-radius: 50%;\n",
              "      cursor: pointer;\n",
              "      display: none;\n",
              "      fill: #1967D2;\n",
              "      height: 32px;\n",
              "      padding: 0 0 0 0;\n",
              "      width: 32px;\n",
              "    }\n",
              "\n",
              "    .colab-df-convert:hover {\n",
              "      background-color: #E2EBFA;\n",
              "      box-shadow: 0px 1px 2px rgba(60, 64, 67, 0.3), 0px 1px 3px 1px rgba(60, 64, 67, 0.15);\n",
              "      fill: #174EA6;\n",
              "    }\n",
              "\n",
              "    [theme=dark] .colab-df-convert {\n",
              "      background-color: #3B4455;\n",
              "      fill: #D2E3FC;\n",
              "    }\n",
              "\n",
              "    [theme=dark] .colab-df-convert:hover {\n",
              "      background-color: #434B5C;\n",
              "      box-shadow: 0px 1px 3px 1px rgba(0, 0, 0, 0.15);\n",
              "      filter: drop-shadow(0px 1px 2px rgba(0, 0, 0, 0.3));\n",
              "      fill: #FFFFFF;\n",
              "    }\n",
              "  </style>\n",
              "\n",
              "      <script>\n",
              "        const buttonEl =\n",
              "          document.querySelector('#df-06c23060-cfb4-4fb6-b89e-21a5b9406310 button.colab-df-convert');\n",
              "        buttonEl.style.display =\n",
              "          google.colab.kernel.accessAllowed ? 'block' : 'none';\n",
              "\n",
              "        async function convertToInteractive(key) {\n",
              "          const element = document.querySelector('#df-06c23060-cfb4-4fb6-b89e-21a5b9406310');\n",
              "          const dataTable =\n",
              "            await google.colab.kernel.invokeFunction('convertToInteractive',\n",
              "                                                     [key], {});\n",
              "          if (!dataTable) return;\n",
              "\n",
              "          const docLinkHtml = 'Like what you see? Visit the ' +\n",
              "            '<a target=\"_blank\" href=https://colab.research.google.com/notebooks/data_table.ipynb>data table notebook</a>'\n",
              "            + ' to learn more about interactive tables.';\n",
              "          element.innerHTML = '';\n",
              "          dataTable['output_type'] = 'display_data';\n",
              "          await google.colab.output.renderOutput(dataTable, element);\n",
              "          const docLink = document.createElement('div');\n",
              "          docLink.innerHTML = docLinkHtml;\n",
              "          element.appendChild(docLink);\n",
              "        }\n",
              "      </script>\n",
              "    </div>\n",
              "  </div>\n",
              "  "
            ],
            "text/plain": [
              "                          Calacatta Bluette I Marble Base Molding  ... Schluter Kerdi-Shower Kit 38in. x 60in. Offset ABS Flange 2\n",
              "url             https://www.flooranddecor.com//finishing-piece...  ...  https://www.flooranddecor.com//schluter-instal...         \n",
              "product id                                              100885854  ...                                          100606896         \n",
              "images urls     [https://i8.amplience.net/i/flooranddecor/1008...  ...  [https://i8.amplience.net/i/flooranddecor/1006...         \n",
              "price                                              $18.99 / piece  ...                                    $537.95 / piece         \n",
              "specifications  {'DIMENSIONS': {'Size': '5 x 12', 'Product Len...  ...  {'DIMENSIONS': {'Size': '38in. x 60in.', 'Prod...         \n",
              "\n",
              "[5 rows x 5 columns]"
            ]
          },
          "metadata": {},
          "execution_count": 8
        }
      ]
    },
    {
      "cell_type": "code",
      "source": [
        ""
      ],
      "metadata": {
        "id": "Y3mFGQ97aN2T"
      },
      "execution_count": null,
      "outputs": []
    }
  ],
  "metadata": {
    "colab": {
      "collapsed_sections": [],
      "name": "Scraping_floordecor_products_data_(1).ipynb",
      "provenance": [],
      "include_colab_link": true
    },
    "kernelspec": {
      "display_name": "Python 3",
      "name": "python3"
    },
    "language_info": {
      "name": "python"
    }
  },
  "nbformat": 4,
  "nbformat_minor": 0
}